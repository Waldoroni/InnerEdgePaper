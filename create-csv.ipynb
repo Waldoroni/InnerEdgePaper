{
 "cells": [
  {
   "cell_type": "markdown",
   "id": "98fd415a",
   "metadata": {},
   "source": [
    "# Saving the values of period ratios from 1.1-1.5 from the NASA Exoplanet Archive to a csv\n",
    "We want to save planets that are in trios that have an inner compact period ratio (1.1-1.5 since those below 1.1 should be unstable) to match our simulations for multiplanet (>3) systems to a csv to use for our other notebooks! A trio is a group of three adjacent planets in a system. The period ratio between the outer period ratios can be anything as long as the inner is compact."
   ]
  },
  {
   "cell_type": "code",
   "execution_count": 1,
   "id": "98f6f0a2-48fc-4e24-ab88-5d8c96dccb6a",
   "metadata": {},
   "outputs": [],
   "source": [
    "bin_number = 30"
   ]
  },
  {
   "cell_type": "code",
   "execution_count": 2,
   "id": "f60ef7a1",
   "metadata": {},
   "outputs": [],
   "source": [
    "import pandas as pd\n",
    "from tqdm import tqdm\n",
    "import numpy as np\n",
    "import matplotlib.pyplot as plt\n"
   ]
  },
  {
   "cell_type": "code",
   "execution_count": 3,
   "id": "7a517d81",
   "metadata": {},
   "outputs": [
    {
     "name": "stderr",
     "output_type": "stream",
     "text": [
      "100%|██████████████████████████████████████████████████████████████████████████████| 4290/4290 [00:06<00:00, 635.94it/s]\n"
     ]
    },
    {
     "data": {
      "text/html": [
       "<div>\n",
       "<style scoped>\n",
       "    .dataframe tbody tr th:only-of-type {\n",
       "        vertical-align: middle;\n",
       "    }\n",
       "\n",
       "    .dataframe tbody tr th {\n",
       "        vertical-align: top;\n",
       "    }\n",
       "\n",
       "    .dataframe thead th {\n",
       "        text-align: right;\n",
       "    }\n",
       "</style>\n",
       "<table border=\"1\" class=\"dataframe\">\n",
       "  <thead>\n",
       "    <tr style=\"text-align: right;\">\n",
       "      <th></th>\n",
       "      <th>Planet Name</th>\n",
       "      <th>Host Name</th>\n",
       "      <th>Orbital Period</th>\n",
       "      <th>Discovery Method</th>\n",
       "      <th>Semi-Major Axis (AU)</th>\n",
       "      <th>Eccentricity</th>\n",
       "      <th>Radius (R_earth)</th>\n",
       "      <th>Mass or Mass * sin(i) (M_earth)</th>\n",
       "      <th>Stellar Mass (M_sun)</th>\n",
       "    </tr>\n",
       "  </thead>\n",
       "  <tbody>\n",
       "    <tr>\n",
       "      <th>21</th>\n",
       "      <td>2MASS J19383260+4603591 b</td>\n",
       "      <td>2MASS J19383260+4603591</td>\n",
       "      <td>406.0000</td>\n",
       "      <td>Eclipse Timing Variations</td>\n",
       "      <td>0.9200</td>\n",
       "      <td>0.330</td>\n",
       "      <td>13.4</td>\n",
       "      <td>603.8770</td>\n",
       "      <td>0.48</td>\n",
       "    </tr>\n",
       "    <tr>\n",
       "      <th>27</th>\n",
       "      <td>47 UMa b</td>\n",
       "      <td>47 UMa</td>\n",
       "      <td>1078.0000</td>\n",
       "      <td>Radial Velocity</td>\n",
       "      <td>2.1000</td>\n",
       "      <td>0.032</td>\n",
       "      <td>13.2</td>\n",
       "      <td>804.0800</td>\n",
       "      <td>1.06</td>\n",
       "    </tr>\n",
       "    <tr>\n",
       "      <th>28</th>\n",
       "      <td>47 UMa c</td>\n",
       "      <td>47 UMa</td>\n",
       "      <td>2391.0000</td>\n",
       "      <td>Radial Velocity</td>\n",
       "      <td>3.6000</td>\n",
       "      <td>0.098</td>\n",
       "      <td>14.2</td>\n",
       "      <td>171.6210</td>\n",
       "      <td>1.06</td>\n",
       "    </tr>\n",
       "    <tr>\n",
       "      <th>29</th>\n",
       "      <td>47 UMa d</td>\n",
       "      <td>47 UMa</td>\n",
       "      <td>14002.0000</td>\n",
       "      <td>Radial Velocity</td>\n",
       "      <td>11.6000</td>\n",
       "      <td>0.160</td>\n",
       "      <td>13.5</td>\n",
       "      <td>521.2200</td>\n",
       "      <td>1.06</td>\n",
       "    </tr>\n",
       "    <tr>\n",
       "      <th>32</th>\n",
       "      <td>55 Cnc b</td>\n",
       "      <td>55 Cnc</td>\n",
       "      <td>14.6516</td>\n",
       "      <td>Radial Velocity</td>\n",
       "      <td>0.1134</td>\n",
       "      <td>0.000</td>\n",
       "      <td>13.9</td>\n",
       "      <td>263.9785</td>\n",
       "      <td>0.91</td>\n",
       "    </tr>\n",
       "  </tbody>\n",
       "</table>\n",
       "</div>"
      ],
      "text/plain": [
       "                  Planet Name                Host Name  Orbital Period  \\\n",
       "21  2MASS J19383260+4603591 b  2MASS J19383260+4603591        406.0000   \n",
       "27                   47 UMa b                   47 UMa       1078.0000   \n",
       "28                   47 UMa c                   47 UMa       2391.0000   \n",
       "29                   47 UMa d                   47 UMa      14002.0000   \n",
       "32                   55 Cnc b                   55 Cnc         14.6516   \n",
       "\n",
       "             Discovery Method  Semi-Major Axis (AU)  Eccentricity  \\\n",
       "21  Eclipse Timing Variations                0.9200         0.330   \n",
       "27            Radial Velocity                2.1000         0.032   \n",
       "28            Radial Velocity                3.6000         0.098   \n",
       "29            Radial Velocity               11.6000         0.160   \n",
       "32            Radial Velocity                0.1134         0.000   \n",
       "\n",
       "    Radius (R_earth)  Mass or Mass * sin(i) (M_earth)  Stellar Mass (M_sun)  \n",
       "21              13.4                         603.8770                  0.48  \n",
       "27              13.2                         804.0800                  1.06  \n",
       "28              14.2                         171.6210                  1.06  \n",
       "29              13.5                         521.2200                  1.06  \n",
       "32              13.9                         263.9785                  0.91  "
      ]
     },
     "execution_count": 3,
     "metadata": {},
     "output_type": "execute_result"
    }
   ],
   "source": [
    "#MAKE INITIAL DATA FRAME\n",
    "\n",
    "df = pd.read_csv('PSCompPars_2024.07.25_09.45.09.csv')\n",
    "\n",
    "# Create an array of all host star/system names\n",
    "hosts = df['hostname'].unique()\n",
    "\n",
    "# For each planetary system...\n",
    "for host in tqdm(hosts):\n",
    "    # If the system contains less than 3 planets...\n",
    "    if (df['hostname'] == host).sum() < 3:\n",
    "        # Get the row indices of the system's planets\n",
    "        index = df[df['hostname']==host].index\n",
    "        # Remove those rows from our DataFrame\n",
    "        df.drop(index, inplace=True)\n",
    "\n",
    "# Data that might be useful to us\n",
    "planet_data = pd.DataFrame()\n",
    "planet_data[\"Planet Name\"] = df['pl_name']\n",
    "planet_data[\"Host Name\"] = df['hostname']\n",
    "planet_data[\"Orbital Period\"] = df['pl_orbper']\n",
    "planet_data[\"Discovery Method\"] = df['discoverymethod']\n",
    "planet_data[\"Semi-Major Axis (AU)\"] = df['pl_orbsmax']\n",
    "planet_data[\"Eccentricity\"] = df['pl_orbeccen']\n",
    "planet_data[\"Radius (R_earth)\"] = df['pl_rade']\n",
    "planet_data[\"Mass or Mass * sin(i) (M_earth)\"] = df['pl_bmasse']\n",
    "planet_data[\"Stellar Mass (M_sun)\"] = df['st_mass']\n",
    "planet_data.to_csv('2024_planet_data.csv')\n",
    "df = pd.read_csv('2024_planet_data.csv', index_col=0)\n",
    "df.head()"
   ]
  },
  {
   "cell_type": "code",
   "execution_count": 4,
   "id": "267a8329-894e-4d76-a7a0-86dec380b44c",
   "metadata": {},
   "outputs": [
    {
     "data": {
      "text/plain": [
       "Series([], Name: Orbital Period, dtype: float64)"
      ]
     },
     "execution_count": 4,
     "metadata": {},
     "output_type": "execute_result"
    }
   ],
   "source": [
    "df = pd.read_csv('2024_planet_data.csv', index_col=0)\n",
    "df = df.dropna(subset=[\"Orbital Period\"])\n",
    "df[df[\"Orbital Period\"] == '0']['Orbital Period']"
   ]
  },
  {
   "cell_type": "code",
   "execution_count": 5,
   "id": "c09b95d2-f059-44cd-ae04-2c7b3788036a",
   "metadata": {},
   "outputs": [
    {
     "data": {
      "text/plain": [
       "(1135, 9)"
      ]
     },
     "execution_count": 5,
     "metadata": {},
     "output_type": "execute_result"
    }
   ],
   "source": [
    "df.shape"
   ]
  },
  {
   "cell_type": "code",
   "execution_count": 6,
   "id": "117a2a97",
   "metadata": {},
   "outputs": [
    {
     "name": "stdout",
     "output_type": "stream",
     "text": [
      "(1135, 9)\n"
     ]
    },
    {
     "ename": "TypeError",
     "evalue": "argument of type 'numpy.float64' is not iterable",
     "output_type": "error",
     "traceback": [
      "\u001b[0;31m---------------------------------------------------------------------------\u001b[0m",
      "\u001b[0;31mTypeError\u001b[0m                                 Traceback (most recent call last)",
      "Cell \u001b[0;32mIn[6], line 13\u001b[0m\n\u001b[1;32m     10\u001b[0m \u001b[38;5;66;03m#df = df[\"<\" not in df[\"Orbital Period\"]]\u001b[39;00m\n\u001b[1;32m     11\u001b[0m \u001b[38;5;66;03m#print(df)\u001b[39;00m\n\u001b[1;32m     12\u001b[0m \u001b[38;5;28;01mfor\u001b[39;00m i \u001b[38;5;129;01min\u001b[39;00m \u001b[38;5;28mrange\u001b[39m(\u001b[38;5;241m1\u001b[39m,\u001b[38;5;28mlen\u001b[39m(ratios)):\n\u001b[0;32m---> 13\u001b[0m     \u001b[38;5;28;01mif\u001b[39;00m \u001b[38;5;124;43m\"\u001b[39;49m\u001b[38;5;124;43m<\u001b[39;49m\u001b[38;5;124;43m\"\u001b[39;49m\u001b[43m \u001b[49m\u001b[38;5;129;43;01min\u001b[39;49;00m\u001b[43m \u001b[49m\u001b[43mratios\u001b[49m\u001b[43m[\u001b[49m\u001b[43mi\u001b[49m\u001b[43m]\u001b[49m \u001b[38;5;129;01mor\u001b[39;00m \u001b[38;5;124m'\u001b[39m\u001b[38;5;124ma\u001b[39m\u001b[38;5;124m'\u001b[39m \u001b[38;5;129;01min\u001b[39;00m ratios[i] \u001b[38;5;129;01mor\u001b[39;00m \u001b[38;5;124m'\u001b[39m\u001b[38;5;124m&\u001b[39m\u001b[38;5;124m'\u001b[39m \u001b[38;5;129;01min\u001b[39;00m ratios[i]:\n\u001b[1;32m     14\u001b[0m         badlist\u001b[38;5;241m.\u001b[39mappend(ratios[i])\n\u001b[1;32m     15\u001b[0m \u001b[38;5;66;03m#print(badlist) \u001b[39;00m\n\u001b[1;32m     16\u001b[0m \u001b[38;5;66;03m#print(df.to_string())\u001b[39;00m\n\u001b[1;32m     17\u001b[0m \u001b[38;5;66;03m#print(badlist)\u001b[39;00m\n",
      "\u001b[0;31mTypeError\u001b[0m: argument of type 'numpy.float64' is not iterable"
     ]
    }
   ],
   "source": [
    "df = pd.read_csv('2024_planet_data.csv', index_col=0)\n",
    "df = df.dropna(subset=[\"Orbital Period\"])\n",
    "df = df[df[\"Orbital Period\"] != '0']\n",
    "print(df.shape)\n",
    "#print(df[\"Orbital Period\"].to_string())\n",
    "#df = df[\"<\" not in df[\"Orbital Period\"]]\n",
    "ratios = df[\"Orbital Period\"].to_numpy()\n",
    "#print(ratios.index)\n",
    "badlist = []\n",
    "#df = df[\"<\" not in df[\"Orbital Period\"]]\n",
    "#print(df)\n",
    "for i in range(1,len(ratios)):\n",
    "    if \"<\" in ratios[i] or 'a' in ratios[i] or '&' in ratios[i]:\n",
    "        badlist.append(ratios[i])\n",
    "#print(badlist) \n",
    "#print(df.to_string())\n",
    "#print(badlist)\n",
    "df = df[~df[\"Orbital Period\"].isin(badlist)]\n",
    "print(df.shape)\n",
    "#print(df)\n",
    "#print(ratios)\n"
   ]
  },
  {
   "cell_type": "code",
   "execution_count": 10,
   "id": "cde3efbd",
   "metadata": {},
   "outputs": [],
   "source": [
    "# GET RID OF ONES THAT DON'T HAVE INNER PRATIO 1.1-1.5\n",
    "df['Keep'] = False\n",
    "\n",
    "# for every system in planet_data\n",
    "for system in df['Host Name'].unique():\n",
    "    # new system df of JUST planets from that system\n",
    "    system_df = df[df['Host Name'] == system]\n",
    "    # sort them in order of orbital period lowest to highest\n",
    "    system_sorted = system_df.sort_values(by='Orbital Period')\n",
    "    \n",
    "    Nplanets = system_df.shape[0] # number of planets in system\n",
    "    Ntrios = Nplanets - 2 # number of trios, three adjacent planet groupings\n",
    "    \n",
    "    # for every trio\n",
    "    for q in range(Ntrios):\n",
    "        P1 = system_sorted.iloc[q]['Orbital Period']\n",
    "        P2 = system_sorted.iloc[q+1]['Orbital Period']\n",
    "        P3 = system_sorted.iloc[q+2]['Orbital Period']\n",
    "        \n",
    "        # if the inner period ratio is 1.1-1.5\n",
    "        if float(P2)/float(P1) > 1.1 and float(P2)/float(P1) < 1.5:\n",
    "            # keep these planets in dataframe\n",
    "            df.loc[system_sorted.iloc[q].name, 'Keep'] = True\n",
    "            df.loc[system_sorted.iloc[q+1].name, 'Keep'] = True\n",
    "            df.loc[system_sorted.iloc[q+2].name, 'Keep'] = True\n",
    "            "
   ]
  },
  {
   "cell_type": "code",
   "execution_count": 11,
   "id": "447b4e91",
   "metadata": {},
   "outputs": [
    {
     "name": "stdout",
     "output_type": "stream",
     "text": [
      "164\n"
     ]
    },
    {
     "data": {
      "text/html": [
       "<div>\n",
       "<style scoped>\n",
       "    .dataframe tbody tr th:only-of-type {\n",
       "        vertical-align: middle;\n",
       "    }\n",
       "\n",
       "    .dataframe tbody tr th {\n",
       "        vertical-align: top;\n",
       "    }\n",
       "\n",
       "    .dataframe thead th {\n",
       "        text-align: right;\n",
       "    }\n",
       "</style>\n",
       "<table border=\"1\" class=\"dataframe\">\n",
       "  <thead>\n",
       "    <tr style=\"text-align: right;\">\n",
       "      <th></th>\n",
       "      <th>Planet Name</th>\n",
       "      <th>Host Name</th>\n",
       "      <th>Orbital Period</th>\n",
       "      <th>Discovery Method</th>\n",
       "      <th>Semi-Major Axis (AU)</th>\n",
       "      <th>Eccentricity</th>\n",
       "      <th>Radius (R_earth)</th>\n",
       "      <th>Mass or Mass * sin(i) (M_earth)</th>\n",
       "      <th>Stellar Mass (M_sun)</th>\n",
       "    </tr>\n",
       "  </thead>\n",
       "  <tbody>\n",
       "    <tr>\n",
       "      <th>130</th>\n",
       "      <td>DMPP-1 b</td>\n",
       "      <td>DMPP-1</td>\n",
       "      <td>18.570</td>\n",
       "      <td>Radial Velocity</td>\n",
       "      <td>0.1462</td>\n",
       "      <td>0.083</td>\n",
       "      <td>5.29</td>\n",
       "      <td>24.27</td>\n",
       "      <td>1.21</td>\n",
       "    </tr>\n",
       "    <tr>\n",
       "      <th>131</th>\n",
       "      <td>DMPP-1 c</td>\n",
       "      <td>DMPP-1</td>\n",
       "      <td>6.584</td>\n",
       "      <td>Radial Velocity</td>\n",
       "      <td>0.0733</td>\n",
       "      <td>0.057</td>\n",
       "      <td>3.06</td>\n",
       "      <td>9.60</td>\n",
       "      <td>1.21</td>\n",
       "    </tr>\n",
       "    <tr>\n",
       "      <th>133</th>\n",
       "      <td>DMPP-1 e</td>\n",
       "      <td>DMPP-1</td>\n",
       "      <td>5.516</td>\n",
       "      <td>Radial Velocity</td>\n",
       "      <td>0.0651</td>\n",
       "      <td>0.070</td>\n",
       "      <td>1.86</td>\n",
       "      <td>4.13</td>\n",
       "      <td>1.21</td>\n",
       "    </tr>\n",
       "    <tr>\n",
       "      <th>208</th>\n",
       "      <td>GJ 180 b</td>\n",
       "      <td>GJ 180</td>\n",
       "      <td>17.133</td>\n",
       "      <td>Radial Velocity</td>\n",
       "      <td>0.0920</td>\n",
       "      <td>0.070</td>\n",
       "      <td>2.43</td>\n",
       "      <td>6.49</td>\n",
       "      <td>0.43</td>\n",
       "    </tr>\n",
       "    <tr>\n",
       "      <th>209</th>\n",
       "      <td>GJ 180 c</td>\n",
       "      <td>GJ 180</td>\n",
       "      <td>24.329</td>\n",
       "      <td>Radial Velocity</td>\n",
       "      <td>0.1290</td>\n",
       "      <td>0.090</td>\n",
       "      <td>2.41</td>\n",
       "      <td>6.40</td>\n",
       "      <td>0.43</td>\n",
       "    </tr>\n",
       "  </tbody>\n",
       "</table>\n",
       "</div>"
      ],
      "text/plain": [
       "    Planet Name Host Name  Orbital Period Discovery Method  \\\n",
       "130    DMPP-1 b    DMPP-1          18.570  Radial Velocity   \n",
       "131    DMPP-1 c    DMPP-1           6.584  Radial Velocity   \n",
       "133    DMPP-1 e    DMPP-1           5.516  Radial Velocity   \n",
       "208    GJ 180 b    GJ 180          17.133  Radial Velocity   \n",
       "209    GJ 180 c    GJ 180          24.329  Radial Velocity   \n",
       "\n",
       "     Semi-Major Axis (AU)  Eccentricity  Radius (R_earth)  \\\n",
       "130                0.1462         0.083              5.29   \n",
       "131                0.0733         0.057              3.06   \n",
       "133                0.0651         0.070              1.86   \n",
       "208                0.0920         0.070              2.43   \n",
       "209                0.1290         0.090              2.41   \n",
       "\n",
       "     Mass or Mass * sin(i) (M_earth)  Stellar Mass (M_sun)  \n",
       "130                            24.27                  1.21  \n",
       "131                             9.60                  1.21  \n",
       "133                             4.13                  1.21  \n",
       "208                             6.49                  0.43  \n",
       "209                             6.40                  0.43  "
      ]
     },
     "execution_count": 11,
     "metadata": {},
     "output_type": "execute_result"
    }
   ],
   "source": [
    "# create new data frame with trios that have the inner pratio 1.1-1.5\n",
    "compact_df = df[df['Keep'] == True]\n",
    "\n",
    "# get rid of 'keep' column since these would all be true and it's not important anymore\n",
    "del compact_df['Keep']\n",
    "\n",
    "print(len(compact_df))\n",
    "\n",
    "compact_df.to_csv('compact_planet_data_2024.csv')\n",
    "\n",
    "df = pd.read_csv('compact_planet_data_2024.csv', index_col=0)\n",
    "df.head()"
   ]
  },
  {
   "cell_type": "code",
   "execution_count": 12,
   "id": "1987ae88",
   "metadata": {},
   "outputs": [
    {
     "data": {
      "text/plain": [
       "164"
      ]
     },
     "execution_count": 12,
     "metadata": {},
     "output_type": "execute_result"
    }
   ],
   "source": [
    "df = pd.read_csv('compact_planet_data_2024.csv', index_col=0)\n",
    "len(df)"
   ]
  },
  {
   "cell_type": "code",
   "execution_count": null,
   "id": "2c241fad-d271-44b3-90a1-8943f9b16cbb",
   "metadata": {},
   "outputs": [],
   "source": []
  },
  {
   "cell_type": "code",
   "execution_count": 13,
   "id": "b6fb80b7",
   "metadata": {},
   "outputs": [
    {
     "name": "stderr",
     "output_type": "stream",
     "text": [
      "100%|█████████████████████████████████████████████████████████████████████████████████| 50/50 [00:00<00:00, 3336.23it/s]"
     ]
    },
    {
     "name": "stdout",
     "output_type": "stream",
     "text": [
      "[ 406.       1078.       2391.       ...    4.617033  241.258\n",
      " 1276.46    ]\n",
      "73\n"
     ]
    },
    {
     "name": "stderr",
     "output_type": "stream",
     "text": [
      "\n"
     ]
    }
   ],
   "source": [
    "df = pd.read_csv('compact_planet_data_2024.csv')\n",
    "# Create an array of all host star/system names\n",
    "hosts = df['Host Name'].unique()\n",
    "# For each planetary system...\n",
    "for host in tqdm(hosts):\n",
    "    # If the system contains less than 3 planets...\n",
    "    if (df['Host Name'] == host).sum() < 3:\n",
    "        # Get the row indices of the system's planets\n",
    "        index = df[df['Host Name']==host].index\n",
    "        # Remove those rows from our DataFrame\n",
    "        df.drop(index, inplace=True)\n",
    "many_p_hosts = df['Host Name'].unique()\n",
    "#Calculates all_p_ratios\n",
    "# planets dictionary – keys are planet names, values are Booleans\n",
    "# Value = True if this planet is a member of a pair with P-ratio <= 1.5, False otherwise\n",
    "planets = {}\n",
    "# List of all period ratios less than or equal to 1.5\n",
    "all_p_ratios = []\n",
    "for host in many_p_hosts:\n",
    "    # Create a Data Frame of only this system's planets\n",
    "    system_df = df[df[\"Host Name\"] == host]\n",
    "    # system — a list of tuples of the form (period, planet_name)\n",
    "    system = []\n",
    "    # Populate system, add to planets\n",
    "    for ind in system_df.index:\n",
    "        system += [(system_df['Orbital Period'][ind], system_df['Planet Name'][ind])]\n",
    "        # Planet values are False by default\n",
    "        planets[system_df['Planet Name'][ind]] = False\n",
    "    # Sort the system from smallest period to largest\n",
    "    system.sort()\n",
    "    # Pratios – a list of tuples of the form (p-ratio, inner_planet_name, outer_planet_name)\n",
    "    Pratios = []\n",
    "    # Populate Pratios\n",
    "    for i in range(len(system) - 1):\n",
    "        # Calculate each period ratio\n",
    "        ratio = system[i + 1][0] / system[i][0]\n",
    "        Pratios += [(ratio, system[i][1], system[i + 1][1])]\n",
    "    # If a planet is a member of a pair with a P-ratio <= 1.5, we want to save it\n",
    "    for ratio in Pratios:\n",
    "        if ratio[0] <= 1.5:\n",
    "            planets[ratio[1]] = True\n",
    "            planets[ratio[2]] = True\n",
    "            # Save this period ratio\n",
    "            all_p_ratios += [ratio[0]]\n",
    "# Remove all planets that are not part of a pair with P-ratio <= 1.5\n",
    "for planet in planets.keys():\n",
    "    if planets[planet] == False:\n",
    "        planet_index = df[df['Planet Name'] == planet].index\n",
    "        df.drop(planet_index, inplace = True)\n",
    "#Now we have all_p_ratios\n",
    "bins=np.linspace(1.1, 1.51, bin_number) \n",
    "#mask = pairs['Pratio'] < 1.5\n",
    "#count, nik_edges = np.histogram(all_p_ratios)\n",
    "#values = count\n",
    "pratios_observed = np.asarray(all_p_ratios)\n",
    "pratios_observed.sort()\n",
    "observed_period_cdf = np.cumsum(pratios_observed)/pratios_observed.sum()\n",
    "#pdf = count/sum(count)\n",
    "#observed_norm_cumulative = np.cumsum(pdf)\n",
    "#observed_period_pdf = count\n",
    "nik_observed_period_cdf = observed_period_cdf\n",
    "print(ratios)\n",
    "print(len(observed_period_cdf))\n",
    "np.save(\"observed_periods_2024\",all_p_ratios)\n",
    "np.save(\"observed_period_cdf\",observed_period_cdf)"
   ]
  },
  {
   "cell_type": "code",
   "execution_count": 17,
   "id": "57208006-fef1-4455-8755-e627cfe9208d",
   "metadata": {},
   "outputs": [
    {
     "ename": "NameError",
     "evalue": "name 'observed_norm_cumulative' is not defined",
     "output_type": "error",
     "traceback": [
      "\u001b[0;31m---------------------------------------------------------------------------\u001b[0m",
      "\u001b[0;31mNameError\u001b[0m                                 Traceback (most recent call last)",
      "Cell \u001b[0;32mIn[17], line 1\u001b[0m\n\u001b[0;32m----> 1\u001b[0m \u001b[38;5;28mprint\u001b[39m(\u001b[43mobserved_norm_cumulative\u001b[49m)\n\u001b[1;32m      2\u001b[0m \u001b[38;5;28mprint\u001b[39m([\u001b[38;5;241m1\u001b[39m] \u001b[38;5;241m+\u001b[39m \u001b[38;5;28mlist\u001b[39m(\u001b[38;5;28msorted\u001b[39m(pratios_observed)))\n",
      "\u001b[0;31mNameError\u001b[0m: name 'observed_norm_cumulative' is not defined"
     ]
    }
   ],
   "source": [
    "print(observed_norm_cumulative)\n",
    "print([1] + list(sorted(pratios_observed)))"
   ]
  },
  {
   "cell_type": "code",
   "execution_count": 16,
   "id": "ef833f15-6e49-4bfb-be61-3e176f7ab260",
   "metadata": {},
   "outputs": [
    {
     "ename": "NameError",
     "evalue": "name 'Decimal' is not defined",
     "output_type": "error",
     "traceback": [
      "\u001b[0;31m---------------------------------------------------------------------------\u001b[0m",
      "\u001b[0;31mNameError\u001b[0m                                 Traceback (most recent call last)",
      "Cell \u001b[0;32mIn[16], line 12\u001b[0m\n\u001b[1;32m     10\u001b[0m plt\u001b[38;5;241m.\u001b[39mlegend([\u001b[38;5;124m\"\u001b[39m\u001b[38;5;124mSpock Ratios\u001b[39m\u001b[38;5;124m\"\u001b[39m, \u001b[38;5;124m\"\u001b[39m\u001b[38;5;124mObserved Ratios\u001b[39m\u001b[38;5;124m\"\u001b[39m])\n\u001b[1;32m     11\u001b[0m plt\u001b[38;5;241m.\u001b[39msuptitle(\u001b[38;5;124m\"\u001b[39m\u001b[38;5;124mCumulative Period Ratio from 1.1 to 1.5\u001b[39m\u001b[38;5;124m\"\u001b[39m)\n\u001b[0;32m---> 12\u001b[0m plt\u001b[38;5;241m.\u001b[39mtitle(\u001b[38;5;124m\"\u001b[39m\u001b[38;5;124mp = \u001b[39m\u001b[38;5;124m\"\u001b[39m \u001b[38;5;241m+\u001b[39m \u001b[38;5;124m'\u001b[39m\u001b[38;5;132;01m%.2E\u001b[39;00m\u001b[38;5;124m'\u001b[39m \u001b[38;5;241m%\u001b[39m \u001b[43mDecimal\u001b[49m( \u001b[38;5;28mstr\u001b[39m(prob_list[\u001b[38;5;241m-\u001b[39m\u001b[38;5;241m1\u001b[39m])  ) \u001b[38;5;241m+\u001b[39m \u001b[38;5;124m\"\u001b[39m\u001b[38;5;124m   Number of iterations: \u001b[39m\u001b[38;5;124m\"\u001b[39m \u001b[38;5;241m+\u001b[39m \u001b[38;5;28mstr\u001b[39m(\u001b[38;5;28mlen\u001b[39m(spock_p_list)))\n\u001b[1;32m     13\u001b[0m plt\u001b[38;5;241m.\u001b[39mxlabel(\u001b[38;5;124m\"\u001b[39m\u001b[38;5;124mPeriod Ratio\u001b[39m\u001b[38;5;124m\"\u001b[39m)\n\u001b[1;32m     14\u001b[0m plt\u001b[38;5;241m.\u001b[39mylabel(\u001b[38;5;124m\"\u001b[39m\u001b[38;5;124mCumulative Fraction\u001b[39m\u001b[38;5;124m\"\u001b[39m)\n",
      "\u001b[0;31mNameError\u001b[0m: name 'Decimal' is not defined"
     ]
    },
    {
     "data": {
      "image/png": "[encoded data removed]",
      "text/plain": [
       "<Figure size 600x800 with 1 Axes>"
      ]
     },
     "metadata": {},
     "output_type": "display_data"
    }
   ],
   "source": [
    "fig = plt.figure()\n",
    "fig.set_figheight(8)\n",
    "fig.set_figwidth(6)\n",
    "\n",
    "#plt.plot(p_vals, period_ratios, c = 'green')\n",
    "plt.plot([1] + list(sorted(pratios_observed)), [0]+list(nik_observed_period_cdf), c = 'blue')\n",
    "#plt.plot(nik_edges[1:], np.load('observed_period_cdf.npy'), c = 'blue')\n",
    "plt.plot([1, 1.5], [0, 1], ls=\"--\", c = 'green')\n",
    "\n",
    "plt.legend([\"Spock Ratios\", \"Observed Ratios\"])\n",
    "plt.suptitle(\"Cumulative Period Ratio from 1.1 to 1.5\")\n",
    "plt.title(\"p = \" + '%.2E' % Decimal( str(prob_list[-1])  ) + \"   Number of iterations: \" + str(len(spock_p_list)))\n",
    "plt.xlabel(\"Period Ratio\")\n",
    "plt.ylabel(\"Cumulative Fraction\")\n",
    "plt.xlim(1.0,1.5)\n",
    "fig.set_figheight(8)\n",
    "fig.set_figwidth(6)\n",
    "plt.figure(figsize=(10, 1))\n",
    "plt.show()\n"
   ]
  },
  {
   "cell_type": "code",
   "execution_count": null,
   "id": "e99346be-ddf6-403e-9776-66eda5caa777",
   "metadata": {},
   "outputs": [],
   "source": []
  },
  {
   "cell_type": "code",
   "execution_count": null,
   "id": "39c13059-5430-4395-bba7-174d267b6665",
   "metadata": {},
   "outputs": [],
   "source": []
  }
 ],
 "metadata": {
  "kernelspec": {
   "display_name": "Python 3 (ipykernel)",
   "language": "python",
   "name": "python3"
  },
  "language_info": {
   "codemirror_mode": {
    "name": "ipython",
    "version": 3
   },
   "file_extension": ".py",
   "mimetype": "text/x-python",
   "name": "python",
   "nbconvert_exporter": "python",
   "pygments_lexer": "ipython3",
   "version": "3.12.4"
  }
 },
 "nbformat": 4,
 "nbformat_minor": 5
}
